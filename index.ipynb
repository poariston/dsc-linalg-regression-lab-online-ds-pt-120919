{
 "cells": [
  {
   "cell_type": "markdown",
   "metadata": {},
   "source": [
    "# Regression with Linear Algebra - Lab\n",
    "\n",
    "## Introduction\n",
    "\n",
    "In this lab, you'll apply regression analysis using simple matrix manipulations to fit a model to given data, and then predict new values for previously unseen data. You'll follow the approach highlighted in the previous lesson where you used NumPy to build the appropriate matrices and vectors and solve for the $\\beta$ (unknown variables) vector. The beta vector will be used with test data to make new predictions. You'll also evaluate the model fit.\n",
    "In order to make this experiment interesting, you'll use NumPy at every single stage of this experiment, i.e., loading data, creating matrices, performing train-test split, model fitting, and evaluation.\n",
    "  \n",
    "\n",
    "## Objectives\n",
    "\n",
    "In this lab you will:\n",
    "\n",
    "- Use matrix algebra to calculate the parameter values of a linear regression\n",
    "\n",
    "\n",
    "First, let's import necessary libraries: "
   ]
  },
  {
   "cell_type": "code",
   "execution_count": 1,
   "metadata": {},
   "outputs": [],
   "source": [
    "import csv # for reading csv file\n",
    "import numpy as np"
   ]
  },
  {
   "cell_type": "markdown",
   "metadata": {},
   "source": [
    "## Dataset \n",
    "\n",
    "The dataset you'll use for this experiment is \"**Sales Prices in the City of Windsor, Canada**\", something very similar to the Boston Housing dataset. This dataset contains a number of input (independent) variables, including area, number of bedrooms/bathrooms, facilities(AC/garage), etc. and an output (dependent) variable, **price**.  You'll formulate a linear algebra problem to find linear mappings from input features using the equation provided in the previous lesson. \n",
    "\n",
    "This will allow you to find a relationship between house features and house price for the given data, allowing you to find unknown prices for houses, given the input features.  \n",
    "\n",
    "A description of the dataset and included features is available [here](https://rdrr.io/cran/Ecdat/man/Housing.html).\n",
    "\n",
    "In your repository, the dataset is available as `windsor_housing.csv`. There are 11 input features (first 11 columns):\n",
    "\n",
    "\tlotsize\tbedrooms  bathrms  stories\tdriveway  recroom\tfullbase  gashw\t airco  garagepl   prefarea\n",
    "\n",
    "and 1 output feature i.e. **price** (12th column). \n",
    "\n",
    "The focus of this lab is not really answering a preset analytical question, but to learn how you can perform a regression experiment, using mathematical manipulations - similar to the one you performed using `statsmodels`. So you won't be using any `pandas` or `statsmodels` goodness here. The key objectives here are to: \n",
    "\n",
    "- Understand regression with matrix algebra and \n",
    "- Mastery in NumPy scientific computation\n",
    "\n",
    "## Stage 1: Prepare data for modeling \n",
    "\n",
    "Let's give you a head start by importing the dataset. You'll perform the following steps to get the data ready for analysis:\n",
    "\n",
    "* Initialize an empty list `data` for loading data\n",
    "* Read the csv file containing complete (raw) `windsor_housing.csv`. [Use `csv.reader()` for loading data.](https://docs.python.org/3/library/csv.html). Store this in `data` one row at a time \n",
    "\n",
    "* Drop the first row of csv file as it contains the names of variables (header) which won't be used during analysis (keeping this will cause errors as it contains text values) \n",
    "\n",
    "* Append a column of all **1**s to the data (bias) as the first column\n",
    "\n",
    "* Convert `data` to a NumPy array and inspect first few rows \n",
    "\n",
    "> NOTE: `read.csv()` reads the csv as a text file, so you should convert the contents to float."
   ]
  },
  {
   "cell_type": "code",
   "execution_count": 2,
   "metadata": {},
   "outputs": [
    {
     "data": {
      "text/plain": [
       "array([[1.00e+00, 5.85e+03, 3.00e+00, 1.00e+00, 2.00e+00, 1.00e+00,\n",
       "        0.00e+00, 1.00e+00, 0.00e+00, 0.00e+00, 1.00e+00, 0.00e+00,\n",
       "        4.20e+04],\n",
       "       [1.00e+00, 4.00e+03, 2.00e+00, 1.00e+00, 1.00e+00, 1.00e+00,\n",
       "        0.00e+00, 0.00e+00, 0.00e+00, 0.00e+00, 0.00e+00, 0.00e+00,\n",
       "        3.85e+04],\n",
       "       [1.00e+00, 3.06e+03, 3.00e+00, 1.00e+00, 1.00e+00, 1.00e+00,\n",
       "        0.00e+00, 0.00e+00, 0.00e+00, 0.00e+00, 0.00e+00, 0.00e+00,\n",
       "        4.95e+04],\n",
       "       [1.00e+00, 6.65e+03, 3.00e+00, 1.00e+00, 2.00e+00, 1.00e+00,\n",
       "        1.00e+00, 0.00e+00, 0.00e+00, 0.00e+00, 0.00e+00, 0.00e+00,\n",
       "        6.05e+04],\n",
       "       [1.00e+00, 6.36e+03, 2.00e+00, 1.00e+00, 1.00e+00, 1.00e+00,\n",
       "        0.00e+00, 0.00e+00, 0.00e+00, 0.00e+00, 0.00e+00, 0.00e+00,\n",
       "        6.10e+04]])"
      ]
     },
     "execution_count": 2,
     "metadata": {},
     "output_type": "execute_result"
    }
   ],
   "source": [
    "# Your code here\n",
    "\n",
    "data=[]\n",
    "\n",
    "# Create Empty lists for storing X and y values \n",
    "data = []\n",
    "\n",
    "# Read the data from the csv file\n",
    "with open('windsor_housing.csv') as f:\n",
    "    raw = csv.reader(f)\n",
    "#     # Drop the very first line as it contains names for columns - not actual data \n",
    "    next(raw)\n",
    "#     # Read one row at a time. Append one to each row\n",
    "    for row in raw:\n",
    "        ones = [1.0]\n",
    "        for r in row:\n",
    "            ones.append(float(r))\n",
    "\n",
    "#         # Append the row to data \n",
    "        data.append(ones)\n",
    "\n",
    "    data = np.array(data)\n",
    "data[:5,:]\n",
    "\n",
    "\n",
    "\n",
    "# First 5 rows of raw data \n",
    "\n",
    "# array([[1.00e+00, 5.85e+03, 3.00e+00, 1.00e+00, 2.00e+00, 1.00e+00,\n",
    "#         0.00e+00, 1.00e+00, 0.00e+00, 0.00e+00, 1.00e+00, 0.00e+00,\n",
    "#         4.20e+04],\n",
    "#        [1.00e+00, 4.00e+03, 2.00e+00, 1.00e+00, 1.00e+00, 1.00e+00,\n",
    "#         0.00e+00, 0.00e+00, 0.00e+00, 0.00e+00, 0.00e+00, 0.00e+00,\n",
    "#         3.85e+04],\n",
    "#        [1.00e+00, 3.06e+03, 3.00e+00, 1.00e+00, 1.00e+00, 1.00e+00,\n",
    "#         0.00e+00, 0.00e+00, 0.00e+00, 0.00e+00, 0.00e+00, 0.00e+00,\n",
    "#         4.95e+04],\n",
    "#        [1.00e+00, 6.65e+03, 3.00e+00, 1.00e+00, 2.00e+00, 1.00e+00,\n",
    "#         1.00e+00, 0.00e+00, 0.00e+00, 0.00e+00, 0.00e+00, 0.00e+00,\n",
    "#         6.05e+04],\n",
    "#        [1.00e+00, 6.36e+03, 2.00e+00, 1.00e+00, 1.00e+00, 1.00e+00,\n",
    "#         0.00e+00, 0.00e+00, 0.00e+00, 0.00e+00, 0.00e+00, 0.00e+00,\n",
    "#         6.10e+04]])"
   ]
  },
  {
   "cell_type": "code",
   "execution_count": 3,
   "metadata": {},
   "outputs": [
    {
     "data": {
      "text/plain": [
       "array([['lotsize', 'bedrooms', 'bathrms', 'stories', 'driveway',\n",
       "        'recroom', 'fullbase', 'gashw', 'airco', 'garagepl', 'prefarea',\n",
       "        'price'],\n",
       "       ['5850', '3', '1', '2', '1', '0', '1', '0', '0', '1', '0',\n",
       "        '42000'],\n",
       "       ['4000', '2', '1', '1', '1', '0', '0', '0', '0', '0', '0',\n",
       "        '38500'],\n",
       "       ['3060', '3', '1', '1', '1', '0', '0', '0', '0', '0', '0',\n",
       "        '49500'],\n",
       "       ['6650', '3', '1', '2', '1', '1', '0', '0', '0', '0', '0',\n",
       "        '60500']], dtype='<U8')"
      ]
     },
     "execution_count": 3,
     "metadata": {},
     "output_type": "execute_result"
    }
   ],
   "source": [
    "data2=[]\n",
    "\n",
    "# Create Empty lists for storing X and y values \n",
    "data2 = []\n",
    "\n",
    "# Read the data from the csv file\n",
    "with open('windsor_housing.csv') as f:\n",
    "    raw = csv.reader(f)\n",
    "\n",
    "    # keep first row.\n",
    "    \n",
    "#     # Read one row at a time. Append one to each row\n",
    "    for row in raw:\n",
    "\n",
    "        data2.append(row)\n",
    "\n",
    "    data2 = np.array(data2)\n",
    "data2[:5,:]"
   ]
  },
  {
   "cell_type": "markdown",
   "metadata": {},
   "source": [
    "## Step 2: Perform a 80/20 train-test split\n",
    "\n",
    "Explore NumPy's official documentation to manually split a dataset using a random sampling method of your choice. Some useful methods are located in the [numpy.random library](https://docs.scipy.org/doc/numpy-1.14.0/reference/routines.random.html).\n",
    "* Perform a **random** 80/20 split on data using a method of your choice in NumPy\n",
    "* Split the data to create `x_train`, `y_train`, `x_test`, and `y_test` arrays \n",
    "* Inspect the contents to see if the split performed as expected\n",
    "\n",
    "> Note: When randomly splitting data, it's always recommended to set a seed in order to ensure reproducibility "
   ]
  },
  {
   "cell_type": "code",
   "execution_count": 4,
   "metadata": {},
   "outputs": [
    {
     "data": {
      "text/plain": [
       "560"
      ]
     },
     "execution_count": 4,
     "metadata": {},
     "output_type": "execute_result"
    }
   ],
   "source": [
    "[1,2,3].pop(0)\n",
    "109+451\n",
    "\n"
   ]
  },
  {
   "cell_type": "code",
   "execution_count": 5,
   "metadata": {},
   "outputs": [
    {
     "name": "stdout",
     "output_type": "stream",
     "text": [
      "(546, 13)\n",
      "546\n",
      "109\n",
      "437\n",
      "(109, 13)\n",
      "(437, 13)\n",
      "(109,) (437,) (109, 12) (437, 12)\n"
     ]
    }
   ],
   "source": [
    "# Your code here \n",
    "\n",
    "print(data.shape)\n",
    "# split 546 rows into 2 groups: \n",
    "# 437/109\n",
    "# create a list of the 109 indeces for test set\n",
    "indeces=np.arange(0,546)\n",
    "print( len(indeces) )\n",
    "indeces_test=np.random.choice(indeces,109,replace=False)\n",
    "print( len(indeces_test) )\n",
    "\n",
    "# create the complementary  list of the 437 indeces for training set\n",
    "indeces_train=[elem for elem in indeces if elem not in indeces_test]\n",
    "print( len(indeces_train) )\n",
    "\n",
    "# split data into test and train\n",
    "data_test=data[indeces_test,:]\n",
    "print( data_test.shape )\n",
    "data_train=data[indeces_train,:]\n",
    "print( data_train.shape )\n",
    "\n",
    "# creat y_test, y_train, X_test, X_train\n",
    "y_test=data_test[:,-1]\n",
    "y_train=data_train[:,-1]\n",
    "X_test=data_test[:,:-1]\n",
    "X_train=data_train[:,:-1]\n",
    "\n",
    "print(y_test.shape,y_train.shape,X_test.shape,X_train.shape)\n",
    "\n",
    "\n",
    "# Raw data Shape:  (546, 13)\n",
    "# Train/Test Split: (437, 13) (109, 13)\n",
    "# x_train, y_train, x_test, y_test: (437, 12) (437,) (109, 12) (109,)"
   ]
  },
  {
   "cell_type": "markdown",
   "metadata": {},
   "source": [
    "## Step 3: Calculate the `beta` \n",
    "\n",
    "With $X$ and $y$ in place, you can now compute your beta values with $x_\\text{train}$ and $y_\\text{train}$ as:\n",
    "#### $\\beta = (x_\\text{train}^T. x_\\text{train})^{-1} . x_\\text{train}^T . y_\\text{train}$\n",
    "\n",
    "* Using NumPy operations (transpose, inverse) that we saw earlier, compute the above equation in steps \n",
    "* Print your beta values "
   ]
  },
  {
   "cell_type": "code",
   "execution_count": 6,
   "metadata": {},
   "outputs": [
    {
     "name": "stdout",
     "output_type": "stream",
     "text": [
      "(12, 12)\n"
     ]
    },
    {
     "data": {
      "text/plain": [
       "array([-1.51136475e+03,  3.33504061e+00,  1.76810235e+03,  1.32341823e+04,\n",
       "        6.67269014e+03,  6.83005195e+03,  5.78332382e+03,  3.70846865e+03,\n",
       "        1.34651844e+04,  1.39297330e+04,  3.95115506e+03,  9.26077657e+03])"
      ]
     },
     "execution_count": 6,
     "metadata": {},
     "output_type": "execute_result"
    }
   ],
   "source": [
    "# Your code here \n",
    "\n",
    "#               X_train * Beta   = y_train\n",
    "# dimensions: (437,12)* (12,1) = (437,1)\n",
    "#   Beta= (X_train.T * X_train)^-1 * (X_train.T) * y_train\n",
    "\n",
    "xt_x = X_train.T.dot(X_train)\n",
    "print(xt_x.shape)\n",
    "inv_xt_x = np.linalg.inv( xt_x ) \n",
    "beta= inv_xt_x.dot(X_train.T).dot (y_train)\n",
    "beta\n",
    "\n",
    "# Beta values\n",
    "# Due to random split, your answers may vary \n",
    "# [-5.46637290e+03  3.62457767e+00  2.75100964e+03  1.47223649e+04\n",
    "#   5.97774591e+03  5.71916945e+03  5.73109882e+03  3.83586258e+03\n",
    "#   8.12674607e+03  1.33296437e+04  3.74995169e+03  1.01514699e+04]"
   ]
  },
  {
   "cell_type": "markdown",
   "metadata": {},
   "source": [
    "## Step 4: Make predictions\n",
    "Great, you now have a set of coefficients that describe the linear mappings between $X$ and $y$. You can now use the calculated beta values with the test datasets that we left out to calculate $y$ predictions. Next, use all features in turn and multiply it with this beta. The result will give a prediction for each row which you can append to a new array of predictions.\n",
    "\n",
    "$\\hat{y} = x\\beta = \\beta_0 + \\beta_1 x_1 +  \\beta_2 x_2 + \\ldots + \\beta_m x_m $ \n",
    "\n",
    "* Create a new empty list (`y_pred`) for saving predictions\n",
    "* For each row of `x_test`, take the dot product of the row with beta to calculate the prediction for that row\n",
    "* Append the predictions to `y_pred`\n",
    "* Print the new set of predictions"
   ]
  },
  {
   "cell_type": "code",
   "execution_count": 7,
   "metadata": {},
   "outputs": [
    {
     "name": "stdout",
     "output_type": "stream",
     "text": [
      "<class 'numpy.ndarray'>\n",
      "<class 'numpy.ndarray'>\n",
      "[1. 4. 9.]\n"
     ]
    },
    {
     "data": {
      "text/plain": [
       "range(0, 109)"
      ]
     },
     "execution_count": 7,
     "metadata": {},
     "output_type": "execute_result"
    }
   ],
   "source": [
    "print(type(beta))\n",
    "print(type(X_test[7,:]))\n",
    "a=np.array([1.,2,3])\n",
    "b=np.array([1.,2,3])\n",
    "print(a*b)\n",
    "np.sum( X_test[7,:]*beta)\n",
    "X_test.shape[0]\n",
    "range(X_test.shape[0])"
   ]
  },
  {
   "cell_type": "code",
   "execution_count": 8,
   "metadata": {},
   "outputs": [
    {
     "name": "stdout",
     "output_type": "stream",
     "text": [
      "109\n"
     ]
    },
    {
     "data": {
      "text/plain": [
       "[63018.389228539665,\n",
       " 69909.31349101412,\n",
       " 57150.38742571071,\n",
       " 93909.10851621407,\n",
       " 42872.12585105725,\n",
       " 48459.15619810412,\n",
       " 63413.36707603897,\n",
       " 42368.73000490511,\n",
       " 49708.95909957646,\n",
       " 65163.900689563176,\n",
       " 45303.56574085482,\n",
       " 57443.75818302996,\n",
       " 70081.72075150619,\n",
       " 79309.03789222933,\n",
       " 63758.59005999025,\n",
       " 38499.552070295125,\n",
       " 57225.467860811885,\n",
       " 31636.680538007007,\n",
       " 45206.65427738088,\n",
       " 58545.61142696947,\n",
       " 88118.15832361371,\n",
       " 54179.73430040027,\n",
       " 64845.88026931762,\n",
       " 72579.43524167674,\n",
       " 56645.31273823587,\n",
       " 105789.05457875099,\n",
       " 40867.96173083992,\n",
       " 115970.08938670704,\n",
       " 101397.69803990677,\n",
       " 70463.86070832783,\n",
       " 77928.16760704022,\n",
       " 50509.36884574457,\n",
       " 74534.15752175364,\n",
       " 85882.1821698122,\n",
       " 83309.89554284673,\n",
       " 80813.50856198523,\n",
       " 70591.68160453264,\n",
       " 48908.54935340836,\n",
       " 50377.66493086014,\n",
       " 116812.32409089316,\n",
       " 46186.48344491013,\n",
       " 71240.59676967053,\n",
       " 62810.27056755094,\n",
       " 72475.3443985072,\n",
       " 62660.89950834871,\n",
       " 93192.82803938074,\n",
       " 90675.87971107104,\n",
       " 71800.92903311728,\n",
       " 62709.68852114911,\n",
       " 54818.67563848022,\n",
       " 69915.14199504894,\n",
       " 64689.133360693035,\n",
       " 74480.18297714015,\n",
       " 79809.79933470451,\n",
       " 90124.21029001118,\n",
       " 57211.06435522515,\n",
       " 91344.47174519328,\n",
       " 97794.80369078885,\n",
       " 72241.46117736821,\n",
       " 53400.75255151005,\n",
       " 38126.47427737474,\n",
       " 63271.83760412047,\n",
       " 89511.62043886007,\n",
       " 77772.59258110316,\n",
       " 64439.632645413105,\n",
       " 43870.02910710112,\n",
       " 93628.25003953473,\n",
       " 37312.82315231569,\n",
       " 98649.07873631589,\n",
       " 40741.34140066918,\n",
       " 54536.14602951071,\n",
       " 75429.90194300035,\n",
       " 56979.87845540088,\n",
       " 53277.45255124259,\n",
       " 60289.6856353257,\n",
       " 40931.32750241156,\n",
       " 79089.21304618224,\n",
       " 40901.31213693025,\n",
       " 77701.39628850664,\n",
       " 73697.54190304168,\n",
       " 62930.32177051023,\n",
       " 71649.3631117465,\n",
       " 86149.01089554562,\n",
       " 95621.50420732709,\n",
       " 89494.41440768407,\n",
       " 50759.95908269152,\n",
       " 50606.81113734932,\n",
       " 50042.46316047984,\n",
       " 51440.04046147694,\n",
       " 51616.50582567699,\n",
       " 74984.50022304704,\n",
       " 73372.66560814923,\n",
       " 31803.963396589512,\n",
       " 50409.31762747355,\n",
       " 54261.75172217698,\n",
       " 67825.16105485181,\n",
       " 39647.336867933554,\n",
       " 45929.601245175116,\n",
       " 77346.1717534638,\n",
       " 74730.39062436261,\n",
       " 33404.78288892572,\n",
       " 116308.55439430737,\n",
       " 40735.09093460938,\n",
       " 96990.71091708502,\n",
       " 55581.23949814213,\n",
       " 63676.107579113755,\n",
       " 64256.309733914946,\n",
       " 68010.4943925973,\n",
       " 51036.208759705114]"
      ]
     },
     "execution_count": 8,
     "metadata": {},
     "output_type": "execute_result"
    }
   ],
   "source": [
    "# y_pred= X*beta\n",
    "\n",
    "\n",
    "y_pred=[]\n",
    "for row in range(X_test.shape[0]):\n",
    "    y_pred.append(np.sum( X_test[row,:]*beta ) ) \n",
    "    \n",
    "\n",
    "print(len(y_pred))    \n",
    "y_pred"
   ]
  },
  {
   "cell_type": "markdown",
   "metadata": {},
   "source": [
    "## Step 5: Evaluate model \n",
    "\n",
    "### Visualize actual vs. predicted values\n",
    "This is exciting, now your model can use the beta value to predict the price of houses given the input features. Let's plot these predictions against the actual values in `y_test` to see how much our model deviates. "
   ]
  },
  {
   "cell_type": "code",
   "execution_count": 9,
   "metadata": {},
   "outputs": [
    {
     "name": "stdout",
     "output_type": "stream",
     "text": [
      "Index([0, 'test', 'pred'], dtype='object')\n"
     ]
    },
    {
     "data": {
      "text/plain": [
       "<Figure size 1400x500 with 1 Axes>"
      ]
     },
     "metadata": {},
     "output_type": "display_data"
    }
   ],
   "source": [
    "# Plot predicted and actual values as line plots\n",
    "import matplotlib.pyplot as plt\n",
    "x=range(0,len(y_test))\n",
    "import pandas as pd\n",
    "a= np.array(x).reshape(-1,1)\n",
    "b= y_test.reshape(-1,1)\n",
    "c= np.array(y_pred).reshape(-1,1)\n",
    "df=pd.DataFrame(a)\n",
    "df.shape\n",
    "df['test']=b\n",
    "df.shape\n",
    "df['pred']=c\n",
    "print(df.columns)\n",
    "df.sort_values(by=['test'],axis=0,inplace=True)\n",
    "df\n",
    "\n",
    "plt.figure(figsize=(14,5))\n",
    "plt.plot(x,df['pred'],label='prediction')\n",
    "plt.plot(x,df['test'],label = 'actual')\n",
    "plt.legend()\n",
    "plt.show();"
   ]
  },
  {
   "cell_type": "markdown",
   "metadata": {},
   "source": [
    "This doesn't look so bad, does it? Your model, although isn't perfect at this stage, is making a good attempt to predict house prices although a few prediction seem a bit out. There could be a number of reasons for this. Let's try to dig a bit deeper to check model's predictive abilities by comparing these prediction with actual values of `y_test` individually. That will help you calculate the RMSE value (root mean squared error) for your model. \n",
    "\n",
    "### Root Mean Squared Error\n",
    "Here is the formula for RMSE:  \n",
    "\n",
    "$$ \\large RMSE = \\sqrt{\\sum^N_{i=1}\\dfrac{ (\\text{Predicted}_i-\\text{Actual}_i)^2}{N}}$$\n",
    "\n",
    "* Initialize an empty array `err`\n",
    "* For each row in `y_test` and `y_pred`, take the squared difference and append error for each row in the `err` array\n",
    "* Calculate $RMSE$ from `err` using the formula shown above "
   ]
  },
  {
   "cell_type": "code",
   "execution_count": 10,
   "metadata": {},
   "outputs": [
    {
     "name": "stdout",
     "output_type": "stream",
     "text": [
      "109\n"
     ]
    },
    {
     "data": {
      "text/plain": [
       "15152.125132246952"
      ]
     },
     "execution_count": 10,
     "metadata": {},
     "output_type": "execute_result"
    },
    {
     "data": {
      "image/png": "[encoded data removed]",
      "text/plain": [
       "<Figure size 432x288 with 1 Axes>"
      ]
     },
     "metadata": {
      "needs_background": "light"
     },
     "output_type": "display_data"
    }
   ],
   "source": [
    "# Calculate RMSE\n",
    "err=[]\n",
    "for row in range(y_test.shape[0]):\n",
    "    err.append (y_pred[row] - y_test[row])\n",
    "plt.hist(err)\n",
    "print(len(err))\n",
    "err=np.array(err)\n",
    "RMSE=np.sqrt( np.sum(err**2)/len(err))\n",
    "RMSE\n",
    "# Due to random split, your answers may vary \n",
    "# RMSE = 14868.172645765708"
   ]
  },
  {
   "cell_type": "markdown",
   "metadata": {},
   "source": [
    "### Normalized root mean squared error\n",
    "The above error is clearly in terms of the dependent variable, i.e., the final house price. You can also use a normalized mean squared error in case of multiple regression which can be calculated from RMSE using following the formula:\n",
    "\n",
    "$$ \\large NRMSE = \\dfrac{RMSE}{max_i y_i - min_i y_i} $$\n",
    "\n",
    "* Calculate normalized RMSE"
   ]
  },
  {
   "cell_type": "code",
   "execution_count": 11,
   "metadata": {},
   "outputs": [],
   "source": [
    "# Calculate NRMSE\n",
    "\n",
    "# Due to random split, your answers may vary \n",
    "# 0.09011013724706489"
   ]
  },
  {
   "cell_type": "markdown",
   "metadata": {},
   "source": [
    "There it is. A complete multiple regression analysis using nothing but NumPy. Having good programming skills in NumPy allows you to dig deeper into analytical algorithms in machine learning and deep learning. Using matrix multiplication techniques you saw here, you can easily build a whole neural network from scratch. \n",
    "\n",
    "## Level up (Optional)\n",
    "\n",
    "* Calculate the R-squared and adjusted R-squared for the above model \n",
    "* Plot the residuals (similar to `statsmodels`) and comment on the variance and heteroscedasticity\n",
    "* Run the experiment in `statsmodels` and compare the performance of both approaches in terms of computational cost\n",
    "\n",
    "## Summary\n",
    "\n",
    "In this lab, you built a predictive model for predicting house prices. Remember this is a very naive implementation of regression modeling. The purpose here was to get an introduction to the applications of linear algebra into machine learning and predictive analysis. There are a number of shortcomings in this modeling approach and you can further apply a number of data modeling techniques to improve this model. "
   ]
  },
  {
   "cell_type": "code",
   "execution_count": 12,
   "metadata": {},
   "outputs": [
    {
     "data": {
      "text/plain": [
       "0.6625827805015426"
      ]
     },
     "execution_count": 12,
     "metadata": {},
     "output_type": "execute_result"
    }
   ],
   "source": [
    "# R-squared\n",
    "SSres=np.sum(err**2)\n",
    "tot=[]\n",
    "for row in range(y_test.shape[0]):\n",
    "    tot.append ( y_test[row] - np.mean(y_test) )\n",
    "tot=np.array(tot)\n",
    "SStot=np.sum(tot **2)\n",
    "\n",
    "Rsq= 1 - SSres/SStot\n",
    "Rsq"
   ]
  },
  {
   "cell_type": "code",
   "execution_count": null,
   "metadata": {},
   "outputs": [],
   "source": []
  }
 ],
 "metadata": {
  "kernelspec": {
   "display_name": "Python 3",
   "language": "python",
   "name": "python3"
  },
  "language_info": {
   "codemirror_mode": {
    "name": "ipython",
    "version": 3
   },
   "file_extension": ".py",
   "mimetype": "text/x-python",
   "name": "python",
   "nbconvert_exporter": "python",
   "pygments_lexer": "ipython3",
   "version": "3.6.9"
  }
 },
 "nbformat": 4,
 "nbformat_minor": 2
}
